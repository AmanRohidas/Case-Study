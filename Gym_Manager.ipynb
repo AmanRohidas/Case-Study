{
 "cells": [
  {
   "cell_type": "code",
   "execution_count": 10,
   "metadata": {},
   "outputs": [],
   "source": [
    "class GymManager:\n",
    "    regimen={}\n",
    "    customers = dict()\n",
    "    def __init__(self,s_id,s_name):\n",
    "        self.s_id = s_id\n",
    "        self.s_name = s_name\n",
    "    \n",
    "    @classmethod\n",
    "    def addCustomer(cls,customer):\n",
    "        GymManager.customers[customer.getPhoneNo()] = customer\n",
    "obj = GymManager('s_1','Ramprasad')        "
   ]
  },
  {
   "cell_type": "code",
   "execution_count": null,
   "metadata": {},
   "outputs": [],
   "source": []
  }
 ],
 "metadata": {
  "kernelspec": {
   "display_name": "Python 3",
   "language": "python",
   "name": "python3"
  },
  "language_info": {
   "codemirror_mode": {
    "name": "ipython",
    "version": 3
   },
   "file_extension": ".py",
   "mimetype": "text/x-python",
   "name": "python",
   "nbconvert_exporter": "python",
   "pygments_lexer": "ipython3",
   "version": "3.9.1"
  }
 },
 "nbformat": 4,
 "nbformat_minor": 4
}
